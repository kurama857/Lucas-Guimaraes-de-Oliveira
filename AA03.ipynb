{
  "nbformat": 4,
  "nbformat_minor": 0,
  "metadata": {
    "colab": {
      "name": "AA03.ipynb",
      "version": "0.3.2",
      "provenance": [],
      "include_colab_link": true
    },
    "kernelspec": {
      "name": "python3",
      "display_name": "Python 3"
    }
  },
  "cells": [
    {
      "cell_type": "markdown",
      "metadata": {
        "id": "view-in-github",
        "colab_type": "text"
      },
      "source": [
        "<a href=\"https://colab.research.google.com/github/kurama857/Lucas-Guimaraes-de-Oliveira/blob/master/AA03.ipynb\" target=\"_parent\"><img src=\"https://colab.research.google.com/assets/colab-badge.svg\" alt=\"Open In Colab\"/></a>"
      ]
    },
    {
      "cell_type": "markdown",
      "metadata": {
        "id": "RAbwzSq3cfq6",
        "colab_type": "text"
      },
      "source": [
        "# Atividade Avaliativa da 3ª Unidade de Pensamento Computacional - IMD\n",
        "Prof. Carlos Eduardo de Barros Santos Júnior\n",
        "\n",
        "Monitor Danilo Galvão"
      ]
    },
    {
      "cell_type": "markdown",
      "metadata": {
        "id": "1N9LYZpJd6Dr",
        "colab_type": "text"
      },
      "source": [
        "**Responda o notebook, faça o download (formato .ipynb) e submeta na tarefa correspondente no SIGAA**"
      ]
    },
    {
      "cell_type": "markdown",
      "metadata": {
        "id": "7lLHqb6Bd020",
        "colab_type": "text"
      },
      "source": [
        "**Questão 01**\n",
        "\n",
        "Sistemas de frente de loja também devem auxiliar vendedores a dar trocos. Vamos considerar apenas os trocos com valores menores que um real, ou seja, considerem apenas as moedas.\n",
        "\n",
        "\n",
        "Escreva um código Python que leia um valor de troco e informe quantas cédulas de cada valor devem ser entregues pelo vendedor ao cliente.\n",
        "\n",
        "**Obs.:** Considere que ainda existem notas de R$ 1,00."
      ]
    },
    {
      "cell_type": "markdown",
      "metadata": {
        "id": "1JBrqSxRdtaU",
        "colab_type": "text"
      },
      "source": [
        "|.| Entrada | Saída |\n",
        "|-|----|---|\n",
        "| *Exemplo 1* | 0,75 | 1 moeda(s) de 0,50 <br /> 1 moeda(s) de 0,25 <br /> 0 moeda(s) de 0,10 <br /> 0 moeda(s) de 0,05 <br /> 0 moeda(s) de 0,01 |\n",
        "| *Exemplo 2* | 0,28 | 0 moeda(s) de 0,50 <br /> 1 moeda(s) de 0,25 <br /> 0 moeda(s) de 0,10 <br /> 0 moeda(s) de 0,05 <br /> 3 moeda(s) de 0,01 |\n",
        "| *Exemplo 3* | 0,99 | 1 moeda(s) de 0,50 <br /> 1 moeda(s) de 0,25 <br /> 2 moeda(s) de 0,10 <br /> 0 moeda(s) de 0,05 <br /> 4 moeda(s) de 0,01 |"
      ]
    },
    {
      "cell_type": "code",
      "metadata": {
        "id": "GnnB9uSuh1OH",
        "colab_type": "code",
        "colab": {}
      },
      "source": [
        "# RESPOSTA QUESTÃO 01\n",
        "troco = moedas2\n",
        "valordasmoedas =   "
      ],
      "execution_count": 0,
      "outputs": []
    },
    {
      "cell_type": "markdown",
      "metadata": {
        "id": "qdxZSXhOhtaw",
        "colab_type": "text"
      },
      "source": [
        "**Questão 02** \n",
        "\n",
        "Em sistemas de computação gráfica, compreender diferentes sistemas de coordenadas é fundamental.\n",
        "\n",
        "Considere o sistema de coordenadas cartesiano apresentado na figura abaixo. Ele serve para representar pontos que apresentam duas dimensões, normalmente representados com a notação (x, y), onde x representa a coordenada horizontal e y a vertical.\n",
        "\n",
        "<img src=\"https://github.com/leobezerra/python-zero/blob/master/imgs/UOJ_1041.png?raw=1\">\n",
        "\n",
        "O ponto (0,0) representa a origem dos eixos e é a intersecção entre as quatro subregiões ilustradas na figura abaixo (Q1, Q2, Q3 e Q4, onde Q significa *quadrante*, isto é, uma subregião). Cada quadrante da figura representa pontos com as seguintes características:\n",
        "\n",
        "| Quadrante | Horizontal | Vertical |\n",
        "|:-:|:-:|:-:|\n",
        "| Q1 | x > 0 | y > 0 |\n",
        "| Q2 | x < 0 | y > 0 |\n",
        "| Q3 | x < 0 | y < 0 |\n",
        "| Q4 | x > 0 | y < 0 |\n",
        "\n",
        "Também é possível que um ponto esteja sobre um dos eixos:\n",
        "* Um ponto estará sobre o eixo x se y = 0;\n",
        "* Um ponto estará sobre o eixo y se x = 0.\n",
        "\n",
        "Considerando este contexto, escreva um código Python que leia um ponto (duas coordenadas reais) e informe a primeira condição abaixo que se mostrar verdadeira:\n",
        "* Se o ponto está na \"Origem\";\n",
        "* Se o ponto está sobre o \"Eixo X\";\n",
        "* Se o ponto está sobre o \"Eixo Y\";\n",
        "* Em qual quadrante o ponto está."
      ]
    },
    {
      "cell_type": "code",
      "metadata": {
        "id": "uina6WBRduw5",
        "colab_type": "code",
        "colab": {}
      },
      "source": [
        "# RESPOSTA QUESTÃO 02\n"
      ],
      "execution_count": 0,
      "outputs": []
    },
    {
      "cell_type": "markdown",
      "metadata": {
        "id": "oajr8pYhLHo9",
        "colab_type": "text"
      },
      "source": [
        "**Questão 03**\n",
        "\n",
        "Zerinho ou um é um jogo simples que envolve apenas quatro regras:\n",
        "\n",
        "- Três ou mais jogadores disputam entre si, podendo escolher entre 2 opções de ação: 0 ou 1.\n",
        "- O jogo consiste em lançar a mão (como 0 ou 1) na hora do comando.\n",
        "- Vence aquele que colocou o valor diferente dos demais.\n",
        "- Se o jogador 2 coloca 1 e os demais 0, o jogador 2 sai como vencedor.\n",
        "\n",
        "\n",
        "Escreva um código Python que receba um inteiro informando número de rodadas de uma partida e simule três jogadores competindo entre si. Você deve imprimir as ações e o vencedor de cada rodada, bem como o vencedor da partida."
      ]
    },
    {
      "cell_type": "markdown",
      "metadata": {
        "id": "q3_zCOLsL_s0",
        "colab_type": "text"
      },
      "source": [
        "|.| Entrada | Saída |\n",
        "|-|:-:|:-|\n",
        "| *Exemplo 1* | 3  | Jogador 2 <br/> Empate <br/> Jogador 2 <br/> Placar final: 0 x 2 <br/> Partida vencida pelo Jogador 2! | \n",
        "| *Exemplo 2* | 5 | Jogador 1 <br/> Jogador 1 <br/> Empate <br/> Empate <br/> Jogador 1 <br/> Placar final: 3 x 0 <br/> Partida vencida pelo Jogador 1! |\n",
        "| *Exemplo 3* | 4 | Empate <br/> Jogador 2 <br/> Empate <br/> Empate <br/> Placar final: 0 x 1 <br/> Partida vencida pelo Jogador 2! |"
      ]
    },
    {
      "cell_type": "code",
      "metadata": {
        "id": "O0qKgQcsL-vE",
        "colab_type": "code",
        "colab": {}
      },
      "source": [
        "# RESPOSTA QUESTÃO 03\n",
        "g = 0\n",
        "f = 0\n",
        "n = 0\n",
        "jgd1 = int(input(\"Jogador 1 bote 0 ou 1 \"))\n",
        "jgd2 = int(input(\"Jogador 2 bote 0 ou 1 \"))\n",
        "jgd3 = int(input('Jogador 3 bote 0 ou 1 '))\n",
        "\n",
        "if jgd1 == 0 and jgd2 == 0 and jgd3 == 1: \n",
        "  n += 1\n",
        "  print('Placar final: {} x {} x {}').format(g , f, n )\n",
        "  print(\"Partida vencida pelo Jogador 3!\")\n",
        "elif jgd1 == 1 and jgd2 == 0 and jgd3 == 0: \n",
        "    g += 1\n",
        "    print('Placar final: {} x {} x {}').format(g , f, n )\n",
        "    print(\"Partida vencida pelo Jogador 1!\")\n",
        "elif jgd1 == 0 and jgd2 == 1 and jgd3 == 0: \n",
        "    f += 1\n",
        "    print('Placar final: {} x {} x {}').format(g , f, n )\n",
        "    print('Partida vencida pelo Jogador 2!')\n",
        "elif jgd1 == 0 and jgd2 == 1 and jgd3 == 1: \n",
        "    g += 1\n",
        "    print('Placar final: {} x {} x {}').format(g , f, n )\n",
        "    print('Partida vencida pelo Jogador 1!')\n",
        "elif jgd1 == 1 and jgd2 == 0 and jgd3 == 1: \n",
        "    f += 1\n",
        "    print('Placar final: {} x {} x {}').format(g , f, n )\n",
        "    print('Partida vencida pelo Jogador 2!')\n",
        "elif jgd1 == 1 and jgd2 == 1 and jgd3 == 0: \n",
        "    n += 1\n",
        "    print('Placar final: {} x {} x {}').format(g , f, n )\n",
        "    print('Partida vencida pelo Jogador 3!')\n",
        "elif jgd1 == 0 and jgd2 == 0 and jgd3 == 0: \n",
        "  print('Placar final: {} x {} x {}').format(g , f, n )\n",
        "  print('Empate')\n",
        "else:\n",
        "  jgd1 == 1 and jgd2 == 1 and jgd3 == 1  \n",
        "  print('Placar final: {} x {} x {}').format(g , f, n )\n",
        "  print('Empate')\n",
        "  \n",
        "\n",
        "\n",
        "\n",
        "\n",
        "    "
      ],
      "execution_count": 0,
      "outputs": []
    },
    {
      "cell_type": "markdown",
      "metadata": {
        "id": "5u5I8RB3MNjK",
        "colab_type": "text"
      },
      "source": [
        "**Questão 04**\t\n",
        "\n",
        "Elabore uma função que receba três notas de um aluno como parâmetro e uma letra. \n",
        "\n",
        "Se a letra for ‘A’, a função deve calcular a média aritmética das notas do aluno; se a letra for ‘P’, deverá calcular a média ponderada, com pesos 5, 3 e 2. \n",
        "\n",
        "Retorne a média calculada para o programa principal "
      ]
    },
    {
      "cell_type": "code",
      "metadata": {
        "id": "fDZ-BSTLND-D",
        "colab_type": "code",
        "colab": {}
      },
      "source": [
        "# RESPOSTA QUESTÃO 04"
      ],
      "execution_count": 0,
      "outputs": []
    }
  ]
}