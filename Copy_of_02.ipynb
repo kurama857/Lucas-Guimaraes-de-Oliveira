{
  "nbformat": 4,
  "nbformat_minor": 0,
  "metadata": {
    "colab": {
      "name": "Copy of 02.ipynb",
      "version": "0.3.2",
      "provenance": [],
      "include_colab_link": true
    },
    "language_info": {
      "codemirror_mode": {
        "name": "ipython",
        "version": 3
      },
      "file_extension": ".py",
      "mimetype": "text/x-python",
      "name": "python",
      "nbconvert_exporter": "python",
      "pygments_lexer": "ipython3",
      "version": "3.6.7"
    },
    "kernelspec": {
      "display_name": "Python 3",
      "language": "python",
      "name": "python3"
    }
  },
  "cells": [
    {
      "cell_type": "markdown",
      "metadata": {
        "id": "view-in-github",
        "colab_type": "text"
      },
      "source": [
        "<a href=\"https://colab.research.google.com/github/kurama857/Lucas-Guimaraes-de-Oliveira/blob/master/Copy_of_02.ipynb\" target=\"_parent\"><img src=\"https://colab.research.google.com/assets/colab-badge.svg\" alt=\"Open In Colab\"/></a>"
      ]
    },
    {
      "cell_type": "markdown",
      "metadata": {
        "id": "iJmGoLOHNmch",
        "colab_type": "text"
      },
      "source": [
        "<small><small><i>\n",
        "Este notebook foi baseado nos notebooks disponíveis em [https://gitlab.erc.monash.edu.au/andrease/Python4Maths.git]\n",
        "</i></small></small>"
      ]
    },
    {
      "cell_type": "markdown",
      "metadata": {
        "id": "FBaxYvNuNmc0",
        "colab_type": "text"
      },
      "source": [
        "# Comparando e decidindo\n",
        "\n",
        "Python permite comparar os valores associados a diferentes variáveis usando **operadores de comparação**. \n",
        "\n",
        "Expressões que contêm operadores de comparação são chamadas **expressões lógicas** e podem ser usadas em **estruturas de decisão** para decidir o que o seu código deve fazer. \n",
        "\n",
        "Neste roteiro, você aprenderá a utilizar estes conceitos da linguagem Python.\n",
        "\n",
        "## Operadores de comparação\n",
        "\n",
        "Operadores de comparação são utilizados para construir **expressões lógicas**. \n",
        "\n",
        "As regras básicas sobre expressões lógicas em Python são:\n",
        "\n",
        "* Expressões lógicas são avaliadas como verdadeiras (**True**) ou falsas (**False**).\n",
        "* Todos os operadores de comparação em Python têm precedência igual. \n",
        "* Assim como em expressões aritméticas, é possível usar parênteses para mudar a ordem de avaliação de uma expressão.\n",
        "* Caso haja empate de precedência, a expressão é avaliada da esquerda para a direita.\n",
        "\n",
        "Alguns dos operadores de comparação disponíveis em Python estão listados abaixo. "
      ]
    },
    {
      "cell_type": "markdown",
      "metadata": {
        "id": "gM-H6IedNmdC",
        "colab_type": "text"
      },
      "source": [
        "| Símbolo | Significado |\n",
        "|:----:|---|\n",
        "| == | Igualdade |\n",
        "| !=  | Diferença |\n",
        "| < | Menor |\n",
        "| > | Maior |\n",
        "| <=  | Menor ou igual |\n",
        "| >=  | Maior ou igual |\n",
        "\n",
        "Note que é diferente usar `==` (comparação de igualdade) e `=` (associação de variável a valor)."
      ]
    },
    {
      "cell_type": "code",
      "metadata": {
        "id": "bX7MN_4ONmdN",
        "colab_type": "code",
        "outputId": "79931c74-89c5-4632-c1e4-80c7f8b508ca",
        "colab": {
          "base_uri": "https://localhost:8080/",
          "height": 35
        }
      },
      "source": [
        "z = 2\n",
        "z == 2"
      ],
      "execution_count": 0,
      "outputs": [
        {
          "output_type": "execute_result",
          "data": {
            "text/plain": [
              "True"
            ]
          },
          "metadata": {
            "tags": []
          },
          "execution_count": 1
        }
      ]
    },
    {
      "cell_type": "code",
      "metadata": {
        "id": "LQVl5owINmdw",
        "colab_type": "code",
        "colab": {}
      },
      "source": [
        "z > 2"
      ],
      "execution_count": 0,
      "outputs": []
    },
    {
      "cell_type": "code",
      "metadata": {
        "id": "Z2s0kwKwNmeM",
        "colab_type": "code",
        "colab": {}
      },
      "source": [
        "z <= 2"
      ],
      "execution_count": 0,
      "outputs": []
    },
    {
      "cell_type": "code",
      "metadata": {
        "scrolled": true,
        "id": "_0SsfiZPNmek",
        "colab_type": "code",
        "colab": {}
      },
      "source": [
        "z != 2"
      ],
      "execution_count": 0,
      "outputs": []
    },
    {
      "cell_type": "markdown",
      "metadata": {
        "id": "GZ_kKSEqNme5",
        "colab_type": "text"
      },
      "source": [
        "### Exercícios de fixação"
      ]
    },
    {
      "cell_type": "markdown",
      "metadata": {
        "id": "sdDQrpO6NmfC",
        "colab_type": "text"
      },
      "source": [
        "1 - Leia dois números inteiros e teste se o primeiro é menor do que o segundo."
      ]
    },
    {
      "cell_type": "code",
      "metadata": {
        "id": "vuc4FSYNNmfJ",
        "colab_type": "code",
        "outputId": "21ee188d-70f7-48c4-be3f-1389dd44d8c7",
        "colab": {
          "base_uri": "https://localhost:8080/",
          "height": 35
        }
      },
      "source": [
        "w = 10\n",
        "q = 5\n",
        "q < w"
      ],
      "execution_count": 0,
      "outputs": [
        {
          "output_type": "execute_result",
          "data": {
            "text/plain": [
              "True"
            ]
          },
          "metadata": {
            "tags": []
          },
          "execution_count": 2
        }
      ]
    },
    {
      "cell_type": "markdown",
      "metadata": {
        "id": "RW6cDMCRNmfi",
        "colab_type": "text"
      },
      "source": [
        "2 - Sorteie dois números e teste se ambos são iguais.\n",
        "\n",
        "**Dica --** O procedimento **randint**(*menor*, *maior*) sorteia inteiros no intervalo entre menor e maior. Este procedimento não é um procedimento nativo do Python, por isso precisamos importá-lo do módulo **random**, que o fornece."
      ]
    },
    {
      "cell_type": "code",
      "metadata": {
        "scrolled": true,
        "id": "sIb4UQwMNmfq",
        "colab_type": "code",
        "outputId": "2aa1b7fd-6574-4013-9d3f-4d79781e8471",
        "colab": {
          "base_uri": "https://localhost:8080/",
          "height": 54
        }
      },
      "source": [
        "from random import randint\n",
        "print (randint (0,100),(randint (0,100)))\n",
        "randint(0,100) == randint(0,100)"
      ],
      "execution_count": 0,
      "outputs": [
        {
          "output_type": "stream",
          "text": [
            "98 90\n"
          ],
          "name": "stdout"
        },
        {
          "output_type": "execute_result",
          "data": {
            "text/plain": [
              "False"
            ]
          },
          "metadata": {
            "tags": []
          },
          "execution_count": 67
        }
      ]
    },
    {
      "cell_type": "markdown",
      "metadata": {
        "id": "YyZCEpRmNmgC",
        "colab_type": "text"
      },
      "source": [
        "### Comparando textos"
      ]
    },
    {
      "cell_type": "markdown",
      "metadata": {
        "id": "TQ36ELZfNmgI",
        "colab_type": "text"
      },
      "source": [
        "Também é possível utilizar operadores de comparação para comparar textos:\n",
        "* A igualdade (==) e a diferença (!=) funcionam de forma trivial, assim como no caso dos valores numéricos.\n",
        "* As demais operações consideram a ordem alfabética.\n"
      ]
    },
    {
      "cell_type": "code",
      "metadata": {
        "id": "iQgvS0xLNmgP",
        "colab_type": "code",
        "outputId": "d4d1ddf0-31d4-472c-f52d-df93d9df5f6b",
        "colab": {
          "base_uri": "https://localhost:8080/",
          "height": 35
        }
      },
      "source": [
        "nome = \"Stevejobsson\"\n",
        "nome == \"Stevejobsson\""
      ],
      "execution_count": 0,
      "outputs": [
        {
          "output_type": "execute_result",
          "data": {
            "text/plain": [
              "True"
            ]
          },
          "metadata": {
            "tags": []
          },
          "execution_count": 68
        }
      ]
    },
    {
      "cell_type": "code",
      "metadata": {
        "id": "kUBXNmbiNmgj",
        "colab_type": "code",
        "outputId": "4b3a49fe-7d33-47d1-e3bd-d33dc6dfe9f8",
        "colab": {
          "base_uri": "https://localhost:8080/",
          "height": 35
        }
      },
      "source": [
        "nome != \"Facebookson\""
      ],
      "execution_count": 0,
      "outputs": [
        {
          "output_type": "execute_result",
          "data": {
            "text/plain": [
              "True"
            ]
          },
          "metadata": {
            "tags": []
          },
          "execution_count": 69
        }
      ]
    },
    {
      "cell_type": "code",
      "metadata": {
        "id": "dqzQwjpRNmg6",
        "colab_type": "code",
        "outputId": "813deacc-cc20-44ec-bb9a-4112a26fa2de",
        "colab": {
          "base_uri": "https://localhost:8080/",
          "height": 35
        }
      },
      "source": [
        "'abc' < 'bbc'"
      ],
      "execution_count": 0,
      "outputs": [
        {
          "output_type": "execute_result",
          "data": {
            "text/plain": [
              "True"
            ]
          },
          "metadata": {
            "tags": []
          },
          "execution_count": 70
        }
      ]
    },
    {
      "cell_type": "code",
      "metadata": {
        "id": "_AK1zZFFNmhM",
        "colab_type": "code",
        "outputId": "13a910c7-d66a-4ebb-e789-6b40c1c6974d",
        "colab": {
          "base_uri": "https://localhost:8080/",
          "height": 35
        }
      },
      "source": [
        "'bbc' <= 'bbc'"
      ],
      "execution_count": 0,
      "outputs": [
        {
          "output_type": "execute_result",
          "data": {
            "text/plain": [
              "True"
            ]
          },
          "metadata": {
            "tags": []
          },
          "execution_count": 71
        }
      ]
    },
    {
      "cell_type": "code",
      "metadata": {
        "id": "X0MlIHjLNmhd",
        "colab_type": "code",
        "outputId": "09750451-1150-4e7f-b701-8db3df1edc7a",
        "colab": {
          "base_uri": "https://localhost:8080/",
          "height": 35
        }
      },
      "source": [
        "'bbc' <= 'bac'"
      ],
      "execution_count": 0,
      "outputs": [
        {
          "output_type": "execute_result",
          "data": {
            "text/plain": [
              "False"
            ]
          },
          "metadata": {
            "tags": []
          },
          "execution_count": 72
        }
      ]
    },
    {
      "cell_type": "markdown",
      "metadata": {
        "id": "5JMjTaMoNmhy",
        "colab_type": "text"
      },
      "source": [
        "### Exercícios de fixação"
      ]
    },
    {
      "cell_type": "markdown",
      "metadata": {
        "id": "ERwBE2oqNmh6",
        "colab_type": "text"
      },
      "source": [
        "3 - Leia dois nomes e teste se o primeiro é anterior ao segundo considerando a ordem alfabética."
      ]
    },
    {
      "cell_type": "code",
      "metadata": {
        "id": "3SnKYhuCNmh_",
        "colab_type": "code",
        "outputId": "a2a9d5c6-4b99-4d80-c06d-e3fedca7b820",
        "colab": {
          "base_uri": "https://localhost:8080/",
          "height": 35
        }
      },
      "source": [
        "\"alu\" < \"card\""
      ],
      "execution_count": 0,
      "outputs": [
        {
          "output_type": "execute_result",
          "data": {
            "text/plain": [
              "True"
            ]
          },
          "metadata": {
            "tags": []
          },
          "execution_count": 73
        }
      ]
    },
    {
      "cell_type": "markdown",
      "metadata": {
        "id": "9cWfMbIONmiT",
        "colab_type": "text"
      },
      "source": [
        "4 - Teste se os textos \"Python\" e \"python\" são considerados idênticos."
      ]
    },
    {
      "cell_type": "code",
      "metadata": {
        "id": "HvY40ZmbNmie",
        "colab_type": "code",
        "outputId": "2f534f89-f2dc-4ea4-b27b-1c8f7da6a331",
        "colab": {
          "base_uri": "https://localhost:8080/",
          "height": 35
        }
      },
      "source": [
        "\"Python\" == \"python\""
      ],
      "execution_count": 0,
      "outputs": [
        {
          "output_type": "execute_result",
          "data": {
            "text/plain": [
              "False"
            ]
          },
          "metadata": {
            "tags": []
          },
          "execution_count": 74
        }
      ]
    },
    {
      "cell_type": "markdown",
      "metadata": {
        "id": "yRVgmesdNmiw",
        "colab_type": "text"
      },
      "source": [
        "## Operadores lógicos"
      ]
    },
    {
      "cell_type": "markdown",
      "metadata": {
        "id": "CJ7ldS40Nmi4",
        "colab_type": "text"
      },
      "source": [
        "É possível criar expressões lógicas mais complexas utilizando **operadores lógicos**.\n",
        "\n",
        "Os operadores lógicos mais simples do Python são os operadores E (**and**) e OU (**or**).\n",
        "\n",
        "As regras básicas sobre expressões que contenham operadores lógicos em Python são:\n",
        "\n",
        "* Operadores de comparação têm maior precedência que operadores lógicos.\n",
        "* O operador lógico **and** tem maior precedência que o operador **or**. \n",
        "* É possível usar parênteses para mudar a ordem de avaliação de uma expressão.\n",
        "* Caso reste apenas operações de mesma precedência, a expressão passa a ser avaliada da esquerda para a direita."
      ]
    },
    {
      "cell_type": "markdown",
      "metadata": {
        "id": "_TeFHbFINmi9",
        "colab_type": "text"
      },
      "source": [
        "| Símbolo | Significado |\n",
        "|:----:|---|\n",
        "| **and** | **True**, desde que ambos os lados da expressão sejam verdadeiros |\n",
        "| **or**  | **True**, desde que pelo menos um lado da expressão seja verdadeiro |"
      ]
    },
    {
      "cell_type": "code",
      "metadata": {
        "id": "HPm3lHM6NmjC",
        "colab_type": "code",
        "outputId": "7b63e87d-ffa0-4fbe-c5a9-74a0c5e52514",
        "colab": {
          "base_uri": "https://localhost:8080/",
          "height": 35
        }
      },
      "source": [
        "\"a\" < \"b\" and 5 >= 5"
      ],
      "execution_count": 0,
      "outputs": [
        {
          "output_type": "execute_result",
          "data": {
            "text/plain": [
              "True"
            ]
          },
          "metadata": {
            "tags": []
          },
          "execution_count": 76
        }
      ]
    },
    {
      "cell_type": "code",
      "metadata": {
        "id": "-KGXxtw2NmjW",
        "colab_type": "code",
        "outputId": "8dc08bb3-9cf8-475f-ce89-f7f1ac23eab4",
        "colab": {
          "base_uri": "https://localhost:8080/",
          "height": 35
        }
      },
      "source": [
        "\"a\" <= \"b\" and 5 > 5"
      ],
      "execution_count": 0,
      "outputs": [
        {
          "output_type": "execute_result",
          "data": {
            "text/plain": [
              "False"
            ]
          },
          "metadata": {
            "tags": []
          },
          "execution_count": 75
        }
      ]
    },
    {
      "cell_type": "code",
      "metadata": {
        "id": "XwRzkCkANmjl",
        "colab_type": "code",
        "outputId": "8076ee1c-5990-4dec-b63d-d7a1773de744",
        "colab": {
          "base_uri": "https://localhost:8080/",
          "height": 35
        }
      },
      "source": [
        "\"a\" <= \"b\" or 5 > 5"
      ],
      "execution_count": 0,
      "outputs": [
        {
          "output_type": "execute_result",
          "data": {
            "text/plain": [
              "True"
            ]
          },
          "metadata": {
            "tags": []
          },
          "execution_count": 77
        }
      ]
    },
    {
      "cell_type": "markdown",
      "metadata": {
        "id": "DtWfUB7iNmj6",
        "colab_type": "text"
      },
      "source": [
        "### Exercícios de fixação"
      ]
    },
    {
      "cell_type": "markdown",
      "metadata": {
        "id": "0PQlUS1NNmj9",
        "colab_type": "text"
      },
      "source": [
        "5 - Leia um gênero e uma idade. Teste se esta combinação representa alguém em situação de obrigatoriedade militar.\n",
        "\n",
        "**Dica --** Em tempos de \"paz\", o serviço militar só é obrigatório para homens maiores de idade."
      ]
    },
    {
      "cell_type": "code",
      "metadata": {
        "id": "DrBjPq8_NmkC",
        "colab_type": "code",
        "outputId": "c882c738-e394-493b-8ea1-8062939812da",
        "colab": {
          "base_uri": "https://localhost:8080/",
          "height": 35
        }
      },
      "source": [
        "\"Homem\" <= \"homem\" and 45 >= 18"
      ],
      "execution_count": 0,
      "outputs": [
        {
          "output_type": "execute_result",
          "data": {
            "text/plain": [
              "True"
            ]
          },
          "metadata": {
            "tags": []
          },
          "execution_count": 141
        }
      ]
    },
    {
      "cell_type": "markdown",
      "metadata": {
        "id": "uxIUR8B8NmkR",
        "colab_type": "text"
      },
      "source": [
        "\n",
        "6 - Leia uma idade e teste se esta pessoa está obrigada a votar.\n",
        "\n",
        "**Dica --** Estão obrigados a votar pessoas entre 18 e 70 anos de idade."
      ]
    },
    {
      "cell_type": "code",
      "metadata": {
        "id": "e3p1_2w1NmkY",
        "colab_type": "code",
        "outputId": "a5003d9c-c5bb-4a96-edf4-12ac25a50de6",
        "colab": {
          "base_uri": "https://localhost:8080/",
          "height": 35
        }
      },
      "source": [
        "\"pessoas que são obrigadas a votar\" == \"pessoas que são obrigadas a votar\" and 70 >= 18"
      ],
      "execution_count": 0,
      "outputs": [
        {
          "output_type": "execute_result",
          "data": {
            "text/plain": [
              "True"
            ]
          },
          "metadata": {
            "tags": []
          },
          "execution_count": 145
        }
      ]
    },
    {
      "cell_type": "markdown",
      "metadata": {
        "id": "hS4BMncONmkt",
        "colab_type": "text"
      },
      "source": [
        "7 - Leia uma idade e teste se para esta pessoa o voto é facultativo.\n",
        "\n",
        "**Dica --** O voto é facultativo para pessoas entre 16 e 18 anos ou acima dos 70 anos."
      ]
    },
    {
      "cell_type": "code",
      "metadata": {
        "id": "Ac8b1aafNmk0",
        "colab_type": "code",
        "colab": {}
      },
      "source": [
        ""
      ],
      "execution_count": 0,
      "outputs": []
    },
    {
      "cell_type": "markdown",
      "metadata": {
        "id": "LC5PBgSzNmlG",
        "colab_type": "text"
      },
      "source": [
        "8 - Leia três inteiros e teste se o primeiro pertence ao intervalo delimitado pelos dois últimos.\n",
        "\n",
        "**Observação --** Por simplicidade, suponha que os dois últimos números estão ordenados de forma crescente."
      ]
    },
    {
      "cell_type": "code",
      "metadata": {
        "id": "GvZcXVkbNmlL",
        "colab_type": "code",
        "colab": {
          "base_uri": "https://localhost:8080/",
          "height": 35
        },
        "outputId": "78caf0d2-ed14-4c81-b500-8f5e8255bf0b"
      },
      "source": [
        "z =1\n",
        "x= 10\n",
        "c = 20\n",
        "z <= x and z <= c\n"
      ],
      "execution_count": 8,
      "outputs": [
        {
          "output_type": "execute_result",
          "data": {
            "text/plain": [
              "True"
            ]
          },
          "metadata": {
            "tags": []
          },
          "execution_count": 8
        }
      ]
    },
    {
      "cell_type": "markdown",
      "metadata": {
        "id": "Vu80nk2vNmlg",
        "colab_type": "text"
      },
      "source": [
        "### Estruturas de decisão"
      ]
    },
    {
      "cell_type": "markdown",
      "metadata": {
        "id": "YT9muK5KNmlk",
        "colab_type": "text"
      },
      "source": [
        "A principal estrutura utilizada em Python para definir se um trecho de um código será executado é a estrutura **if**, ilustrada a seguir:\n",
        "\n",
        "```python\n",
        "if condicao:\n",
        "    expressao\n",
        "    expressao\n",
        "    ...```"
      ]
    },
    {
      "cell_type": "markdown",
      "metadata": {
        "id": "irc1XEJXNmlx",
        "colab_type": "text"
      },
      "source": [
        "As regras básicas para o uso da estrutura **if** em Python são:\n",
        "\n",
        "* O trecho de código delimitado por uma estrutura **if** é chamado bloco.\n",
        "* Um bloco é caracterizado pela *identação* de suas linhas. Assim, a quantidade de espaços no começo de cada linha é bastante importante no Python.\n",
        "* O bloco de uma estrutura **if** só é executado se sua condição for satisfeita. A condição é avaliada como uma expressão lógica."
      ]
    },
    {
      "cell_type": "code",
      "metadata": {
        "id": "4ciU6SN3Nml2",
        "colab_type": "code",
        "colab": {
          "base_uri": "https://localhost:8080/",
          "height": 54
        },
        "outputId": "037694bf-21f8-4210-825c-c3e38f3d2113"
      },
      "source": [
        "numero = int(input())\n",
        "if numero % 2 == 0:\n",
        "    print(\"O número\", numero, \"é par.\")"
      ],
      "execution_count": 11,
      "outputs": [
        {
          "output_type": "stream",
          "text": [
            "4\n",
            "O número 4 é par.\n"
          ],
          "name": "stdout"
        }
      ]
    },
    {
      "cell_type": "markdown",
      "metadata": {
        "id": "i0HL_IbyNmmM",
        "colab_type": "text"
      },
      "source": [
        "### Exercícios de fixação"
      ]
    },
    {
      "cell_type": "markdown",
      "metadata": {
        "id": "G3byOtlPNmmR",
        "colab_type": "text"
      },
      "source": [
        "9 - Leia um inteiro e o imprima se ele for múltiplo de 3."
      ]
    },
    {
      "cell_type": "code",
      "metadata": {
        "id": "wlaIrffnNmmW",
        "colab_type": "code",
        "colab": {}
      },
      "source": [
        "numero = int(input())\n",
        "if numero % 3 == 0:\n",
        "    print(\"O número\", numero, \"é multiplo de 3.\")\n",
        "    "
      ],
      "execution_count": 0,
      "outputs": []
    },
    {
      "cell_type": "markdown",
      "metadata": {
        "id": "vw-2AimNNmmi",
        "colab_type": "text"
      },
      "source": [
        "\n",
        "10 - Informe entradas para o código abaixo que façam a mensagem ser impressa."
      ]
    },
    {
      "cell_type": "code",
      "metadata": {
        "id": "CChQwn9XNmm9",
        "colab_type": "code",
        "colab": {}
      },
      "source": [
        "texto = input()\n",
        "numero = int(input())\n",
        "if texto < \"hello\" and numero ** 0.5 == 8:\n",
        "    print(\"Mensagem impressa ;)\")"
      ],
      "execution_count": 0,
      "outputs": []
    },
    {
      "cell_type": "markdown",
      "metadata": {
        "id": "F7iXXMc6NmnO",
        "colab_type": "text"
      },
      "source": [
        "### A estrutura ```if-else```"
      ]
    },
    {
      "cell_type": "markdown",
      "metadata": {
        "id": "yBmGWi36NmnS",
        "colab_type": "text"
      },
      "source": [
        "Uma expansão da estrutura **if** é a estrutura **if-else**, que define trechos de código mutuamente exclusivos.\n",
        "\n",
        "```python\n",
        "if condicao:\n",
        "    # bloco se a condição for satisfeita\n",
        "    expressao\n",
        "    ...\n",
        "else:\n",
        "    # bloco se a condição não for satisfeita\n",
        "    expressao\n",
        "    ...\n",
        "```\n",
        "Ambos os blocos de uma estrutura **if-else** devem estar *identados*, de preferência pela mesma quantidade de espaços."
      ]
    },
    {
      "cell_type": "code",
      "metadata": {
        "id": "r5nHArZMNmnW",
        "colab_type": "code",
        "colab": {}
      },
      "source": [
        "numero = int(input())\n",
        "if numero % 2 == 0:\n",
        "    print(\"O número\", numero, \"é par.\")\n",
        "else:\n",
        "    print(\"O número\", numero, \"é ímpar.\")"
      ],
      "execution_count": 0,
      "outputs": []
    },
    {
      "cell_type": "markdown",
      "metadata": {
        "id": "gX--FWCBNmnh",
        "colab_type": "text"
      },
      "source": [
        "### Exercícios de fixação"
      ]
    },
    {
      "cell_type": "markdown",
      "metadata": {
        "collapsed": true,
        "id": "zXgXkek_Nmnm",
        "colab_type": "text"
      },
      "source": [
        "11 - Leia um inteiro e informe se ele é ou não múltiplo de 6."
      ]
    },
    {
      "cell_type": "code",
      "metadata": {
        "id": "a9k_VL7HNmnp",
        "colab_type": "code",
        "colab": {}
      },
      "source": [
        "numero = int(input())\n",
        "if numero % 6 == 0:\n",
        "    print(\"O número\", numero, \"é multiplo de 6.\")\n",
        "else:\n",
        "    print(\"O número\", numero, \"não é multiplo de 6\")"
      ],
      "execution_count": 0,
      "outputs": []
    },
    {
      "cell_type": "markdown",
      "metadata": {
        "id": "Zg-a_UztNmn2",
        "colab_type": "text"
      },
      "source": [
        "12 - Leia dois nomes de pessoas e os imprima em ordem alfabética."
      ]
    },
    {
      "cell_type": "code",
      "metadata": {
        "id": "p5WPf94JNmn6",
        "colab_type": "code",
        "colab": {
          "base_uri": "https://localhost:8080/",
          "height": 35
        },
        "outputId": "358e3319-cda0-42fa-f6df-f04081dcccb0"
      },
      "source": [
        "nome1 = \"Alucard\"\n",
        "nome2 = \"Dracula\"\n",
        "if nome1 <= \"Alucard\" and nome1 <= \"Dracula\":\n",
        "  print(nome1,\",\",nome2)"
      ],
      "execution_count": 63,
      "outputs": [
        {
          "output_type": "stream",
          "text": [
            "Alucard , Dracula\n"
          ],
          "name": "stdout"
        }
      ]
    },
    {
      "cell_type": "markdown",
      "metadata": {
        "id": "2nuoOc86NmoF",
        "colab_type": "text"
      },
      "source": [
        "### A estrutura ```if-elif-else```"
      ]
    },
    {
      "cell_type": "markdown",
      "metadata": {
        "id": "2CvfuRp2NmoK",
        "colab_type": "text"
      },
      "source": [
        "É possível utilizar a estrutura **if-elif-else** para especificar múltiplos fluxos de execução do algoritmo, em função de uma condição principal e de condições alternativas:\n",
        "\n",
        "```python\n",
        "if condicao_principal:\n",
        "    # bloco se a condição principal for satisfeita\n",
        "    expressao\n",
        "    ...\n",
        "elif condicao_alternativa_1:\n",
        "    # bloco se a condição principal não for satisfeita mas a condição alternativa 1 for\n",
        "    expressao\n",
        "    ...\n",
        "elif condicao_alternativa_2:\n",
        "    # bloco se nem a condição principal nem a condição alternativa 1 forem satisfeitas, mas a condição alternativa 2 for\n",
        "    expressao\n",
        "    ...\n",
        "...\n",
        "else:\n",
        "    # bloco se nem a condição principal nem as condições alternativas forem satisfeitas\n",
        "    expressao\n",
        "    ...\n",
        "\n",
        "```"
      ]
    },
    {
      "cell_type": "markdown",
      "metadata": {
        "id": "fg0YEzqRNmoO",
        "colab_type": "text"
      },
      "source": [
        "As regras básicas para o uso da estrutura **if-elif-else** em Python são:\n",
        "\n",
        "* O bloco **if** é executado se a condição principal for satisfeita.\n",
        "* Um bloco **elif** é executado se sua condição for satisfeita e as condições acima dele não forem. \n",
        "* O bloco **else** é executado se nenhuma condição for satisfeita.\n"
      ]
    },
    {
      "cell_type": "code",
      "metadata": {
        "id": "BgwdAfgyNmoR",
        "colab_type": "code",
        "colab": {
          "base_uri": "https://localhost:8080/",
          "height": 54
        },
        "outputId": "4ca83dc3-bf8f-4ca8-dd01-2349e8f2a848"
      },
      "source": [
        "from random import randint\n",
        "\n",
        "numero = randint(0,100)\n",
        "chute = int(input(\"Chute um número entre 0 e 100: \"))\n",
        "if chute == numero:\n",
        "    print(\"Parabéns, você acertou!\")\n",
        "elif chute < numero:\n",
        "    print(\"Seu chute foi menor que o número sorteado!\")\n",
        "else:\n",
        "    print(\"Seu chute foi maior que o número sorteado!\")"
      ],
      "execution_count": 64,
      "outputs": [
        {
          "output_type": "stream",
          "text": [
            "Chute um número entre 0 e 100: 89\n",
            "Seu chute foi maior que o número sorteado!\n"
          ],
          "name": "stdout"
        }
      ]
    },
    {
      "cell_type": "markdown",
      "metadata": {
        "id": "nb2irlvcNmob",
        "colab_type": "text"
      },
      "source": [
        "### Exercícios de fixação"
      ]
    },
    {
      "cell_type": "markdown",
      "metadata": {
        "id": "hZ9whN92Nmoe",
        "colab_type": "text"
      },
      "source": [
        "13 - Leia um número e teste se ele é positivo, negativo ou nulo."
      ]
    },
    {
      "cell_type": "code",
      "metadata": {
        "id": "Wii9YkhFNmog",
        "colab_type": "code",
        "colab": {}
      },
      "source": [
        "n = int(input())\n",
        "if n == 0:\n",
        "  print(\"O número\", n, \"é nulo\")\n",
        "elif n >= 1:\n",
        "  print(\"O número\", n, \"é positivo\")\n",
        "else:\n",
        "  print(\"O número\", n, \"é negativo\")\n"
      ],
      "execution_count": 0,
      "outputs": []
    },
    {
      "cell_type": "markdown",
      "metadata": {
        "id": "-o8d6MXdNmoq",
        "colab_type": "text"
      },
      "source": [
        "### Combinando múltiplas estruturas de decisão"
      ]
    },
    {
      "cell_type": "markdown",
      "metadata": {
        "id": "ICerfGHcNmot",
        "colab_type": "text"
      },
      "source": [
        "Também é possível combinar estruturas de decisão em múltiplos níveis, o que é conhecido como **aninhar estruturas**.\n",
        "\n",
        "As regras básicas para aninhar estruturas de decisão em Python são:\n",
        "* Não há limite com relação a quantas estruturas e em quantos níveis.\n",
        "* Blocos de níveis mais profundos devem apresentar maior grau de identação. "
      ]
    },
    {
      "cell_type": "code",
      "metadata": {
        "id": "rx-bNfQhNmox",
        "colab_type": "code",
        "colab": {}
      },
      "source": [
        "from random import randint\n",
        "\n",
        "numero = randint(0,100)\n",
        "if numero % 6 == 0:\n",
        "    print(\"O número\", numero, \"é múltiplo de 6!\")\n",
        "else:\n",
        "    if numero % 2 == 0:\n",
        "        print(\"O número\", numero, \"é múltiplo de 2, mas não de 3!\")\n",
        "    elif numero % 3 == 0:\n",
        "        print(\"O número\", numero, \"é múltiplo de 3, mas não de 2!\")\n",
        "    else:\n",
        "        print(\"O número\", numero, \"não é multiplo de 2 nem de 3, muito menos de 6!\")"
      ],
      "execution_count": 0,
      "outputs": []
    },
    {
      "cell_type": "markdown",
      "metadata": {
        "collapsed": true,
        "id": "YuMKqcXdNmpA",
        "colab_type": "text"
      },
      "source": [
        "## Exercícios do URI"
      ]
    },
    {
      "cell_type": "markdown",
      "metadata": {
        "collapsed": true,
        "id": "MyvWcu4MNmpC",
        "colab_type": "text"
      },
      "source": [
        "[1037](https://www.urionlinejudge.com.br/judge/pt/problems/view/1037) - Um histograma é um tipo de gráfico estatístico que particiona os dados disponíveis em subgrupos e informa quantos elementos existem em cada subgrupo.\n",
        "\n",
        "Escreva um código Python que possa ser usado para construir um histograma de um conjunto de números inteiros sorteados no intervalo [0,100), isto é, valores maiores ou iguais a 0 e menores que 100. \n",
        "\n",
        "Por simplicidade, considere que apenas um número será sorteado. Você deve identificar a qual dos intervalos a seguir este número pertence: [0,25), [25,50), [50,75), [75,100). "
      ]
    },
    {
      "cell_type": "markdown",
      "metadata": {
        "id": "_LS_5flPNmpF",
        "colab_type": "text"
      },
      "source": [
        "|.| Entrada | Saída |\n",
        "|-|:----:|---|\n",
        "| *Exemplo 1* | 5 | [0,25) | \n",
        "| *Exemplo 2* | 50 | [50,75) |\n",
        "| *Exemplo 3* | 74 | [50,75) |"
      ]
    },
    {
      "cell_type": "code",
      "metadata": {
        "id": "rTKbGJTMNmpJ",
        "colab_type": "code",
        "colab": {}
      },
      "source": [
        ""
      ],
      "execution_count": 0,
      "outputs": []
    },
    {
      "cell_type": "markdown",
      "metadata": {
        "id": "QWJtkvBZNmpX",
        "colab_type": "text"
      },
      "source": [
        "[1049](https://www.urionlinejudge.com.br/judge/pt/problems/view/1049) - Uma árvore de classificação é uma ferramenta usada em diferentes áreas da ciência para ajudar a identificar objetos por suas características.\n",
        "\n",
        "Considerando a árvore de classificação abaixo, escreva um código Python que identifique um animal por suas características. Mais precisamente, seu código deve receber três textos como entrada e informar ao usuário de qual animal se trata.\n",
        "\n",
        "<img src=\"https://github.com/leobezerra/python-zero/blob/master/imgs/UOJ_1049_b.png?raw=1\">"
      ]
    },
    {
      "cell_type": "markdown",
      "metadata": {
        "id": "ElFubpM9Nmpd",
        "colab_type": "text"
      },
      "source": [
        "|.| Entrada | Saída |\n",
        "|-|----|---|\n",
        "| *Exemplo 1* | vertebrado<br/>mamifero<br/>onivoro | homem | \n",
        "| *Exemplo 2* | vertebrado<br/>ave<br/>carnivoro | aguia |\n",
        "| *Exemplo 3* | invertebrado<br/>anelideo<br/>onivoro | minhoca |"
      ]
    },
    {
      "cell_type": "code",
      "metadata": {
        "id": "arUBTarLNmpg",
        "colab_type": "code",
        "colab": {}
      },
      "source": [
        ""
      ],
      "execution_count": 0,
      "outputs": []
    },
    {
      "cell_type": "markdown",
      "metadata": {
        "id": "ISxt7qTTNmpu",
        "colab_type": "text"
      },
      "source": [
        "[1049](https://www.urionlinejudge.com.br/judge/pt/problems/view/1049) - Em sistemas de computação gráfica, compreender diferentes sistemas de coordenadas é fundamental.\n",
        "\n",
        "Considere o sistema de coordenadas cartesiano apresentado na figura abaixo. Ele serve para representar pontos que apresentam duas dimensões, normalmente representados com a notação (x, y), onde x representa a coordenada horizontal e y a vertical.\n",
        "\n",
        "<img src=\"https://github.com/leobezerra/python-zero/blob/master/imgs/UOJ_1041.png?raw=1\">\n",
        "\n",
        "O ponto (0,0) representa a origem dos eixos e é a intersecção entre as quatro subregiões ilustradas na figura abaixo (Q1, Q2, Q3 e Q4, onde Q significa *quadrante*, isto é, uma subregião). Cada quadrante da figura representa pontos com as seguintes características:\n",
        "\n",
        "| Quadrante | Horizontal | Vertical |\n",
        "|:-:|:-:|:-:|\n",
        "| Q1 | x > 0 | y > 0 |\n",
        "| Q2 | x < 0 | y > 0 |\n",
        "| Q3 | x < 0 | y < 0 |\n",
        "| Q4 | x > 0 | y < 0 |\n",
        "\n",
        "Também é possível que um ponto esteja sobre um dos eixos:\n",
        "* Um ponto estará sobre o eixo x se y = 0;\n",
        "* Um ponto estará sobre o eixo y se x = 0.\n",
        "\n",
        "Considerando este contexto, escreva um código Python que leia um ponto (duas coordenadas reais) e informe a primeira condição abaixo que se mostrar verdadeira:\n",
        "* Se o ponto está na \"Origem\";\n",
        "* Se o ponto está sobre o \"Eixo X\";\n",
        "* Se o ponto está sobre o \"Eixo Y\";\n",
        "* Em qual quadrante o ponto está."
      ]
    },
    {
      "cell_type": "markdown",
      "metadata": {
        "id": "2N3XeXRWNmpx",
        "colab_type": "text"
      },
      "source": [
        "|.| Entrada | Saída |\n",
        "|-|:-:|:-:|\n",
        "| *Exemplo 1* | 4.5<br/>-2.2 | Q4 | \n",
        "| *Exemplo 2* | 0.1<br/>0.0 | Eixo X |\n",
        "| *Exemplo 3* | 0.0<br/>0.0 | Origem |"
      ]
    },
    {
      "cell_type": "code",
      "metadata": {
        "id": "Q_4qlXN_Nmp0",
        "colab_type": "code",
        "colab": {}
      },
      "source": [
        ""
      ],
      "execution_count": 0,
      "outputs": []
    },
    {
      "cell_type": "markdown",
      "metadata": {
        "id": "u0bMCc2FNmp-",
        "colab_type": "text"
      },
      "source": [
        "[1051](https://www.urionlinejudge.com.br/judge/pt/problems/view/1051) - Sistemas contábeis e de recursos humanos precisam conhecer bem a legislação tributária do país para calcular os impostos a serem recolhidos mensalmente sobre o salário dos funcionários. \n",
        "\n",
        "Trabalhadores também precisam entender quanto ganham e porque existem descontos em seus contra-cheques.\n",
        "\n",
        "Neste exercício, você vai ajudar empresas e trabalhadores a entender os descontos da previdência social (INSS).\n",
        "\n",
        "A tabela usada para calcular esses descontos é apresentada a seguir."
      ]
    },
    {
      "cell_type": "markdown",
      "metadata": {
        "id": "Y9CbehQmNmqC",
        "colab_type": "text"
      },
      "source": [
        "| Salário de contribuição | Alíquota |\n",
        "|:-:|:-:|\n",
        "| Até 1.693,72 | 8% | \n",
        "| De 1.693,73 a 2.822,90 | 9% |\n",
        "| De 2.822,91 até 5.645,80 | 11% |"
      ]
    },
    {
      "cell_type": "markdown",
      "metadata": {
        "id": "zXxecQp8NmqG",
        "colab_type": "text"
      },
      "source": [
        "Como você pode ver, o desconto sobre o salário depende da faixa salarial na qual um trabalhador se enquadre.\n",
        "\n",
        "Além disso, existe um teto na tabela que determina que pessoas que ganhem a partir de 5.645,81 devem contribuir com 621,04 (11% de 5.645,80).\n",
        "\n",
        "Escreva um código Python que receba um salário bruto (antes do desconto) e informe o valor da contribuição para o INSS e o salário líquido (após o desconto)."
      ]
    },
    {
      "cell_type": "markdown",
      "metadata": {
        "id": "P_q7QA0DNmqI",
        "colab_type": "text"
      },
      "source": [
        "|.| Entrada | Saída |\n",
        "|-|:-:|-|\n",
        "| *Exemplo 1* | 7456.57 | 621.04 6835.53 | \n",
        "| *Exemplo 2* | 2822.90 | 254.06 2568.84 |\n",
        "| *Exemplo 3* | 1693.73 | 152.44 1541.29 |"
      ]
    },
    {
      "cell_type": "code",
      "metadata": {
        "id": "gf2drkbsNmqM",
        "colab_type": "code",
        "colab": {}
      },
      "source": [
        ""
      ],
      "execution_count": 0,
      "outputs": []
    },
    {
      "cell_type": "markdown",
      "metadata": {
        "id": "-5_tf8i2NmqW",
        "colab_type": "text"
      },
      "source": [
        "Um segundo tipo de dedução mensal que incide sobre os ganhos dos trabalhadores é o *imposto de renda sobre pessoa física* (IRPF).\n",
        "\n",
        "Para o cálculo do IRPF, utiliza-se como base de cálculo o salário bruto descontado da contribuição do INSS. \n",
        "\n",
        "As principais diferenças em relação ao cálculo do INSS são:\n",
        "* Quem possui salário-base até 1.903,98 é isento do pagamento do IRPF.\n",
        "* Não há teto para a contribuição do IRPF.\n",
        "* O valor do IRPF cobrado a uma pessoa é abatido de um valor que varia em função da alíquota correspondente.\n",
        "\n",
        "A tabela usada para o cálculo do IRPF é mostrada abaixo."
      ]
    },
    {
      "cell_type": "markdown",
      "metadata": {
        "id": "JUDryJ4YNmqb",
        "colab_type": "text"
      },
      "source": [
        "| Base de cálculo (R\\$) | Alíquota | Parcela a deduzir |\n",
        "|:-:|:-:|:-:|\n",
        "| Até 1.903,98 | - | - |\n",
        "| De 1.903,99 até 2.826,65 | 7,5% | 142,80 |\n",
        "| De 2.826,66 até 3.751,05 | 15% | 354,80 |\n",
        "| De 3.751,06 até 4.664,68 | 22,5% | 636,13 |\n",
        "| Acima de 4.664,68 | 27,5% | 869,36 |"
      ]
    },
    {
      "cell_type": "markdown",
      "metadata": {
        "id": "vSuD1wUqNmqe",
        "colab_type": "text"
      },
      "source": [
        "Para entender melhor o cálculo do IRPF, vamos tomar como exemplo uma pessoa que, descontada a contribuição do INSS, ganha 2.000,00.\n",
        "\n",
        "A alíquota para esta remuneração é de 7,5% e o abatimento de 142,80. Assim, a contribuição do IRPF será de 2.000,00 * 7,5% - 142,80 = 7,20.\n",
        "\n",
        "Escreva um código Python que receba um salário-base (já descontado do INSS) e informe o valor da contribuição do IRPF e o salário líquido (após o desconto do IRPF)."
      ]
    },
    {
      "cell_type": "markdown",
      "metadata": {
        "id": "OiXW5t4ONmqi",
        "colab_type": "text"
      },
      "source": [
        "|.| Entrada | Saída |\n",
        "|-|:-:|-|\n",
        "| *Exemplo 1* | 6835.53 | 1010.41 5825.12 | \n",
        "| *Exemplo 2* | 2568.84 | 49.86 2518.98 |\n",
        "| *Exemplo 3* | 1541.29 | 0.00 1541.29 |"
      ]
    },
    {
      "cell_type": "code",
      "metadata": {
        "id": "G0JdydZwNmqk",
        "colab_type": "code",
        "colab": {}
      },
      "source": [
        ""
      ],
      "execution_count": 0,
      "outputs": []
    }
  ]
}