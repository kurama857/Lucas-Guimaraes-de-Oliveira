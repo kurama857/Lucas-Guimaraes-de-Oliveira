{
  "nbformat": 4,
  "nbformat_minor": 0,
  "metadata": {
    "colab": {
      "name": "Copy of 04.ipynb",
      "version": "0.3.2",
      "provenance": [],
      "include_colab_link": true
    },
    "language_info": {
      "codemirror_mode": {
        "name": "ipython",
        "version": 3
      },
      "file_extension": ".py",
      "mimetype": "text/x-python",
      "name": "python",
      "nbconvert_exporter": "python",
      "pygments_lexer": "ipython3",
      "version": "3.6.8"
    },
    "kernelspec": {
      "display_name": "Python 3",
      "language": "python",
      "name": "python3"
    }
  },
  "cells": [
    {
      "cell_type": "markdown",
      "metadata": {
        "id": "view-in-github",
        "colab_type": "text"
      },
      "source": [
        "<a href=\"https://colab.research.google.com/github/kurama857/Lucas-Guimaraes-de-Oliveira/blob/master/Copy_of_04.ipynb\" target=\"_parent\"><img src=\"https://colab.research.google.com/assets/colab-badge.svg\" alt=\"Open In Colab\"/></a>"
      ]
    },
    {
      "cell_type": "markdown",
      "metadata": {
        "id": "uwjSCTFZ1QX9",
        "colab_type": "text"
      },
      "source": [
        "<small><small><i>\n",
        "Este notebook foi baseado nos notebooks disponíveis em [https://gitlab.erc.monash.edu.au/andrease/Python4Maths.git]\n",
        "</i></small></small>"
      ]
    },
    {
      "cell_type": "markdown",
      "metadata": {
        "id": "kh6dwo3N1QYF",
        "colab_type": "text"
      },
      "source": [
        "# Reaproveitando código\n",
        "\n",
        "Uma outra maneira de utilizar um código múltiplas vezes é através de **procedimentos**.\n",
        "\n",
        "Um procedimento é um conjunto de instruções agrupados em um bloco que recebem um nome e podem ser chamados quantas vezes for necessário.\n",
        "\n",
        "Nos roteiros anteriores, você já vem usando procedimentos como ```input()```, ```print()``` e ```randint()```.\n",
        "\n",
        "Você também pode criar seus próprios procedimentos usando o seguinte padrão:\n",
        "\n",
        "```python\n",
        "def nome():\n",
        "    instrucao\n",
        "    instrucao\n",
        "    ...\n",
        "```\n",
        "\n",
        "O padrão acima pode ser lido como ```definir``` um procedimento chamado ```nome```, que executará o seguinte bloco de instruções.\n",
        "\n",
        "As regras básicas para a **definição e uso de procedimentos** em Python são:\n",
        "\n",
        "* O trecho de código delimitado por um procedimento é chamado bloco e deve ser identado.\n",
        "* Um procedimento é chamado utilizando a notação ```nome()```."
      ]
    },
    {
      "cell_type": "code",
      "metadata": {
        "id": "WfkdE_La1QYJ",
        "colab_type": "code",
        "outputId": "f5223b66-2c00-4cd4-f7cd-32203a4118a3",
        "colab": {
          "base_uri": "https://localhost:8080/",
          "height": 35
        }
      },
      "source": [
        "def bom_dia():\n",
        "    print(\"Bom dia!\")\n",
        "\n",
        "bom_dia()"
      ],
      "execution_count": 0,
      "outputs": [
        {
          "output_type": "stream",
          "text": [
            "Bom dia!\n"
          ],
          "name": "stdout"
        }
      ]
    },
    {
      "cell_type": "markdown",
      "metadata": {
        "id": "bKaXvaWN1QYX",
        "colab_type": "text"
      },
      "source": [
        "### Exercícios de fixação"
      ]
    },
    {
      "cell_type": "markdown",
      "metadata": {
        "id": "V6TRu-OL1QYb",
        "colab_type": "text"
      },
      "source": [
        "1 - Crie um procedimento ```aleatorio()``` que imprima um inteiro aleatorio pertencente ao intervalo [1,60]."
      ]
    },
    {
      "cell_type": "code",
      "metadata": {
        "id": "J_XaTOTo1QYf",
        "colab_type": "code",
        "outputId": "85795a69-bb25-4614-e487-b02255050448",
        "colab": {
          "base_uri": "https://localhost:8080/",
          "height": 35
        }
      },
      "source": [
        "from random import randint\n",
        "\n",
        "def aleatorio():\n",
        "    print(randint(1,60))\n",
        "    \n",
        "aleatorio()"
      ],
      "execution_count": 0,
      "outputs": [
        {
          "output_type": "stream",
          "text": [
            "28\n"
          ],
          "name": "stdout"
        }
      ]
    },
    {
      "cell_type": "markdown",
      "metadata": {
        "id": "2MHiwCOF1QYo",
        "colab_type": "text"
      },
      "source": [
        "2 - Crie um procedimento mega_sena() que use o procedimento aleatorio() e imprima um jogo da mega sena."
      ]
    },
    {
      "cell_type": "code",
      "metadata": {
        "id": "d4Eu5BNk1QYr",
        "colab_type": "code",
        "outputId": "fa8e52a2-d85e-48b0-f414-0b1afda14c4f",
        "colab": {
          "base_uri": "https://localhost:8080/",
          "height": 231
        }
      },
      "source": [
        "from random import randint\n",
        "\n",
        "def mega_sena():\n",
        "    for numero in range(0,6):\n",
        "       print(\"numeros da mega sena\"),aleatorio()\n",
        "  \n",
        "mega_sena()"
      ],
      "execution_count": 0,
      "outputs": [
        {
          "output_type": "stream",
          "text": [
            "numeros da mega sena\n",
            "10\n",
            "numeros da mega sena\n",
            "48\n",
            "numeros da mega sena\n",
            "29\n",
            "numeros da mega sena\n",
            "44\n",
            "numeros da mega sena\n",
            "39\n",
            "numeros da mega sena\n",
            "5\n"
          ],
          "name": "stdout"
        }
      ]
    },
    {
      "cell_type": "markdown",
      "metadata": {
        "id": "arEtjVG91QYz",
        "colab_type": "text"
      },
      "source": [
        "## Customizando a execução de um procedimento"
      ]
    },
    {
      "cell_type": "markdown",
      "metadata": {
        "id": "CKQMrZJR1QY3",
        "colab_type": "text"
      },
      "source": [
        "Você pode configurar o comportamento de um procedimento utilizando **parâmetros de chamada** (também conhecidos como *argumentos*).\n",
        "\n",
        "Não existe um limite para a quantidade de argumentos de um procedimento, mas você deve nomeá-los ao definir seu procedimento para poder utilizá-los como variáveis:\n",
        "\n",
        "```python\n",
        "def nome(arg1, arg2, ..., argN):\n",
        "    instrucao\n",
        "    instrucao\n",
        "    ...\n",
        "```\n"
      ]
    },
    {
      "cell_type": "code",
      "metadata": {
        "scrolled": true,
        "id": "aCleSRZ01QY7",
        "colab_type": "code",
        "colab": {}
      },
      "source": [
        "def info_pessoa(nome, idade, email):\n",
        "    print(\"Nome:\", nome)\n",
        "    print(\"Idade:\", idade)\n",
        "    print(\"Email:\", email)\n",
        "\n",
        "info_pessoa(\"Leonardo Bezerra\", \"31\", \"leobezerra@imd.ufrn.br\")"
      ],
      "execution_count": 0,
      "outputs": []
    },
    {
      "cell_type": "markdown",
      "metadata": {
        "id": "8QEyyaK51QZC",
        "colab_type": "text"
      },
      "source": [
        "### Exercícios de fixação"
      ]
    },
    {
      "cell_type": "markdown",
      "metadata": {
        "id": "d2p1hsZz1QZE",
        "colab_type": "text"
      },
      "source": [
        "1 - Crie um procedimento ```media()``` que receba notas de 3 unidades de uma disciplina e calcule sua média."
      ]
    },
    {
      "cell_type": "code",
      "metadata": {
        "id": "6qOYPbpF1QZI",
        "colab_type": "code",
        "colab": {}
      },
      "source": [
        ""
      ],
      "execution_count": 0,
      "outputs": []
    },
    {
      "cell_type": "markdown",
      "metadata": {
        "id": "AfhEacDX1QZS",
        "colab_type": "text"
      },
      "source": [
        "2 - Crie um procedimento ```fatorial()``` que receba um inteiro N e imprima seu fatorial."
      ]
    },
    {
      "cell_type": "code",
      "metadata": {
        "id": "EDgXyCRy1QZW",
        "colab_type": "code",
        "colab": {}
      },
      "source": [
        ""
      ],
      "execution_count": 0,
      "outputs": []
    },
    {
      "cell_type": "markdown",
      "metadata": {
        "id": "317m5f4d1QZf",
        "colab_type": "text"
      },
      "source": [
        "## Interrompendo a execução de um procedimento"
      ]
    },
    {
      "cell_type": "markdown",
      "metadata": {
        "id": "hbpemhWI1QZi",
        "colab_type": "text"
      },
      "source": [
        "Assim como é possível interromper uma repetição usando o comando ```break```, é possível interromper a execução de um procedimento usando o comando ```return```."
      ]
    },
    {
      "cell_type": "code",
      "metadata": {
        "scrolled": true,
        "id": "vkApOvVH1QZk",
        "colab_type": "code",
        "colab": {}
      },
      "source": [
        "def raiz_quadrada(n):\n",
        "    if n < 0:\n",
        "        return\n",
        "    print(\"Raiz:\", n ** 0.5)\n",
        "\n",
        "raiz_quadrada(4)\n",
        "raiz_quadrada(16)\n",
        "raiz_quadrada(-1)"
      ],
      "execution_count": 0,
      "outputs": []
    },
    {
      "cell_type": "markdown",
      "metadata": {
        "id": "fNiErQVe1QZv",
        "colab_type": "text"
      },
      "source": [
        "### Exercícios de fixação"
      ]
    },
    {
      "cell_type": "markdown",
      "metadata": {
        "id": "LZFwX8j_1QZw",
        "colab_type": "text"
      },
      "source": [
        "1 - Crie um procedimento ```divisao_inteira()``` que imprima o resultado e o resto da divisão inteira de dois parâmetros inteiros. Se não houver resto, seu procedimento deverá imprimir apenas o resultado da divisão."
      ]
    },
    {
      "cell_type": "code",
      "metadata": {
        "id": "aiz7FBS21QZz",
        "colab_type": "code",
        "colab": {}
      },
      "source": [
        ""
      ],
      "execution_count": 0,
      "outputs": []
    },
    {
      "cell_type": "markdown",
      "metadata": {
        "id": "eTyeRzcL1QZ5",
        "colab_type": "text"
      },
      "source": [
        "## Produzindo um valor a partir de um procedimento"
      ]
    },
    {
      "cell_type": "markdown",
      "metadata": {
        "id": "03uhj4_W1QZ7",
        "colab_type": "text"
      },
      "source": [
        "Outro uso do comando ```return``` é permitir que um procedimento produza um resultado (retorne um valor).\n",
        "\n",
        "Tanto é possível retornar valores diretamente, como usando as varíaveis associadas a esses valores."
      ]
    },
    {
      "cell_type": "code",
      "metadata": {
        "scrolled": true,
        "id": "tU7VGeeF1QZ_",
        "colab_type": "code",
        "colab": {}
      },
      "source": [
        "def soma_n_primeiros(n):\n",
        "    soma = 0\n",
        "    for i in range(n):\n",
        "        soma += i\n",
        "    return soma\n",
        "\n",
        "print(soma_n_primeiros(3))\n",
        "print(soma_n_primeiros(5))\n",
        "print(soma_n_primeiros(10))"
      ],
      "execution_count": 0,
      "outputs": []
    },
    {
      "cell_type": "markdown",
      "metadata": {
        "id": "q3-FazVT1QaN",
        "colab_type": "text"
      },
      "source": [
        "### Exercícios de fixação"
      ]
    },
    {
      "cell_type": "markdown",
      "metadata": {
        "id": "kGQ1q4mX1QaP",
        "colab_type": "text"
      },
      "source": [
        "1 - Crie um procedimento ```valor_absoluto()``` que retorne o valor absoluto de um parâmetro."
      ]
    },
    {
      "cell_type": "code",
      "metadata": {
        "id": "FNAyaXUc1QaS",
        "colab_type": "code",
        "colab": {}
      },
      "source": [
        ""
      ],
      "execution_count": 0,
      "outputs": []
    },
    {
      "cell_type": "markdown",
      "metadata": {
        "id": "k1ovptBu1Qab",
        "colab_type": "text"
      },
      "source": [
        "## Usando procedimentos definidos por outros"
      ]
    },
    {
      "cell_type": "markdown",
      "metadata": {
        "id": "0jWDZkgs1Qad",
        "colab_type": "text"
      },
      "source": [
        "Um dos principais usos de procedimentos é a construção de **bibliotecas**, que são códigos criados por outras pessoas que você pode utilizar dentro do seu código.\n",
        "\n",
        "Nesta disciplina, você poderá **importar** procedimentos de bibliotecas de duas formas:\n",
        "- Importando procedimento(s) específico(s) de uma biblioteca\n",
        "```python\n",
        "from biblioteca import procedimento1, procedimento2, ..., procedimentoN\n",
        "```\n",
        "- Importando todos os procedimentos de uma biblioteca\n",
        "```python\n",
        "from biblioteca import *\n",
        "```"
      ]
    },
    {
      "cell_type": "markdown",
      "metadata": {
        "id": "8RXbTQZ61Qaf",
        "colab_type": "text"
      },
      "source": [
        "### Exercícios de fixação"
      ]
    },
    {
      "cell_type": "markdown",
      "metadata": {
        "id": "R1dOfahl1Qai",
        "colab_type": "text"
      },
      "source": [
        "1 - Em roteiros anteriores, você usou a função ```randint()```. Qual biblioteca fornece esse procedimento?"
      ]
    },
    {
      "cell_type": "markdown",
      "metadata": {
        "id": "Ta0j6oAI1Qak",
        "colab_type": "text"
      },
      "source": [
        "Resposta: "
      ]
    },
    {
      "cell_type": "markdown",
      "metadata": {
        "id": "zt0RwB2V1Qam",
        "colab_type": "text"
      },
      "source": [
        "2 - Use os procedimentos ```sin()``` e ```floor()``` da biblioteca ```math``` para calcular o seno de um número e transformá-lo em um inteiro arredondando-o para baixo."
      ]
    },
    {
      "cell_type": "code",
      "metadata": {
        "id": "Jvk0zfLa1Qap",
        "colab_type": "code",
        "colab": {}
      },
      "source": [
        ""
      ],
      "execution_count": 0,
      "outputs": []
    },
    {
      "cell_type": "markdown",
      "metadata": {
        "collapsed": true,
        "id": "zva5MS5r1Qaw",
        "colab_type": "text"
      },
      "source": [
        "## Exercícios do URI"
      ]
    },
    {
      "cell_type": "markdown",
      "metadata": {
        "collapsed": true,
        "id": "721zxMHu1Qaz",
        "colab_type": "text"
      },
      "source": [
        "[2630](https://www.urionlinejudge.com.br/judge/pt/problems/view/2630) - Sistemas de computação gráfica representam imagens como um conjunto de pontos (pixels) formados por três componentes: vermelho, verde e azul.\n",
        "\n",
        "Alguns algoritmos de processamento de imagem exigem um pré-processamento no qual é necessário transformar uma imagem colorida em uma imagem em tons de cinza. Esta conversão pode ser realizada de diversas maneiras, dependendo do resultado que se pretende obter.\n",
        "\n",
        "Para preservar a percepção das cores básicas pelo olho humano, uma conversão apropriada seria tomar 30% da componente vermelha (R), 59% da componente verde (G) e 11% da componente azul (B). Em termos matemáticos,\n",
        "\n",
        "P = 0,30R + 0,59G + 0,11B\n",
        "\n",
        "Outras abordagens possíveis seriam determinar o valor de P através da média aritmética das três componentes ou atribuir a P os valores da maior ou da menor entre as três componentes.\n",
        "\n",
        "Escreva um código Python que, dadas as componentes RGB de um pixel da imagem colorida, determine o valor do pixel P da imagem em tons de cinza correspondente, determinada a conversão a ser utilizada. Despreze a parte decimal do resultado, caso exista.\n",
        "\n",
        "A entrada consiste em T (1 ≤ T ≤ 100) casos de teste, onde o valor de T é dado na primeira linha da entrada. Cada caso de teste é composto por quatro linhas: a primeira linha contém a conversão a ser utilizada: eye para a primeira abordagem descrita, mean para a média aritmética, max para o valor da maior componente e min para o valor da menor componente. As demais linhas contêm os valores R, G, B (0 ≤ R, G, B ≤ 255) do pixel da imagem colorida.\n",
        "\n",
        "Para cada caso de testes dever ser impresso P, onde P é o nível de cinza do pixel da imagem em tons de cinza após a conversão do pixel da imagem colorida."
      ]
    },
    {
      "cell_type": "markdown",
      "metadata": {
        "id": "F3DX9QUN1Qa0",
        "colab_type": "text"
      },
      "source": [
        "|.| Entrada | Saída |\n",
        "|-|:----:|:-:|\n",
        "| *Exemplo 1* | 3<br/>min<br/>35<br/>70<br/>35<br/>mean<br/>10<br/>74<br/>181<br/>eye<br/>23<br/>78<br/>197 | 35<br/>88<br/>74 | \n",
        "| *Exemplo 2* | 4<br/>min<br/>41<br/>27<br/>32<br/>min<br/>10<br/>21<br/>6<br/>max<br/>15<br/>41<br/>72<br/>max<br/>40<br/>21<br/>63 | 27<br/>6<br/>72<br/>41 | \n",
        "| *Exemplo 3* | 2<br/>eye<br/>7<br/>62<br/>200<br/>mean<br/>15<br/>49<br/>227 | 60<br/>97 | "
      ]
    },
    {
      "cell_type": "code",
      "metadata": {
        "id": "-QDKLBFC1Qa2",
        "colab_type": "code",
        "colab": {}
      },
      "source": [
        ""
      ],
      "execution_count": 0,
      "outputs": []
    },
    {
      "cell_type": "markdown",
      "metadata": {
        "id": "sWv2IzeY1QbA",
        "colab_type": "text"
      },
      "source": [
        "[2165](https://www.urionlinejudge.com.br/judge/pt/problems/view/2165) - O microblog Twitter é conhecido por limitar as postagens em 140 caracteres. Mais recentemente, alguns usuários como a @HBO_Brasil tiveram seus limites de caracteres dobrados para 280.\n",
        "\n",
        "Escreva um código que confira se um texto vai caber em um tuíte. Cada caso de teste é iniciado com um inteiro informando a qual limite o usuário tem direito. Caso o tamanho do caracter exceda esse limite, seu código deverá imprimir a mensagem NO. Caso contrário, seu código deverá imprimir a mensagem OK.\n"
      ]
    },
    {
      "cell_type": "markdown",
      "metadata": {
        "id": "5eFj1rWG1QbD",
        "colab_type": "text"
      },
      "source": [
        "|.| Entrada | Saída |\n",
        "|-|----|:-:|\n",
        "| *Exemplo 1* | 280<br/>Agora dá: Daenerys Targaryen, Filha da Tormenta, Não Queimada, Mãe de Dragões, Rainha de Mereen,<br/>Rainha dos Ândalos e dos Primeiros Homens, Quebradora de Correntes, Senhora dos Sete Reinos,<br/>Khaleesi dos Dothraki, a Primeira de Seu Nome. Descendente da Casa Targaryen. | OK | \n",
        "| *Exemplo 2* | 140<br/>Jon Snow. Ele é Rei do Norte. | OK | \n",
        "| *Exemplo 3* | 140<br/>Fish fingers last night! Looking forward to meeting with<br/>Prime Minister @Netanyahu shortly. (Was thinking of making a joke on<br/>his name – Netanya-WHO!? but @IvankaTrump said best not.)<br/>Peace in the Middle East would be a truly great legacy for ALL people! | NO | \n",
        "\n",
        "\n"
      ]
    },
    {
      "cell_type": "code",
      "metadata": {
        "id": "nxh2Jr4-1QbE",
        "colab_type": "code",
        "colab": {}
      },
      "source": [
        ""
      ],
      "execution_count": 0,
      "outputs": []
    },
    {
      "cell_type": "markdown",
      "metadata": {
        "id": "gpbGdg4o1QbM",
        "colab_type": "text"
      },
      "source": [
        "3 - Em exercícios de notebooks anteriores, você implementou códigos para calcular a contribuição mensal de um trabalhador para o INSS e seu IRPF (imposto de renda pessoa física).\n",
        "\n",
        "Reuse seus códigos de forma modularizada para criar um código que leia o salário bruto de um trabalhador e imprima se salário líquido (descontados INSS e IRPF)."
      ]
    },
    {
      "cell_type": "markdown",
      "metadata": {
        "id": "hE47_CIt1QbO",
        "colab_type": "text"
      },
      "source": [
        "|.| Entrada | Saída |\n",
        "|-|:-:|-|\n",
        "| *Exemplo 1* | 1200.00 | 1104.00 | \n",
        "| *Exemplo 2* | 5485.00 | 4474.05 |\n",
        "| *Exemplo 3* | 10431.00 | 8059.90 |"
      ]
    },
    {
      "cell_type": "code",
      "metadata": {
        "id": "JSrgoXnm1QbQ",
        "colab_type": "code",
        "colab": {}
      },
      "source": [
        ""
      ],
      "execution_count": 0,
      "outputs": []
    }
  ]
}