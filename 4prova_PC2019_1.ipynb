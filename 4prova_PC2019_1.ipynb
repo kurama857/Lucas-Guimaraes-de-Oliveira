{
  "nbformat": 4,
  "nbformat_minor": 0,
  "metadata": {
    "colab": {
      "name": "4prova_PC2019_1.ipynb",
      "version": "0.3.2",
      "provenance": [],
      "collapsed_sections": [],
      "include_colab_link": true
    },
    "kernelspec": {
      "name": "python3",
      "display_name": "Python 3"
    }
  },
  "cells": [
    {
      "cell_type": "markdown",
      "metadata": {
        "id": "view-in-github",
        "colab_type": "text"
      },
      "source": [
        "<a href=\"https://colab.research.google.com/github/kurama857/Lucas-Guimaraes-de-Oliveira/blob/master/4prova_PC2019_1.ipynb\" target=\"_parent\"><img src=\"https://colab.research.google.com/assets/colab-badge.svg\" alt=\"Open In Colab\"/></a>"
      ]
    },
    {
      "cell_type": "markdown",
      "metadata": {
        "id": "RAbwzSq3cfq6",
        "colab_type": "text"
      },
      "source": [
        "# 4ª Prova de Pensamento Computacional - IMD\n",
        "Prof. Carlos Eduardo de Barros Santos Júnior\n",
        "\n",
        "Monitor Danilo Galvão"
      ]
    },
    {
      "cell_type": "markdown",
      "metadata": {
        "id": "1N9LYZpJd6Dr",
        "colab_type": "text"
      },
      "source": [
        "**Responda o notebook, faça o download (formato .ipynb) e submeta na tarefa correspondente no SIGAA**"
      ]
    },
    {
      "cell_type": "markdown",
      "metadata": {
        "id": "7lLHqb6Bd020",
        "colab_type": "text"
      },
      "source": [
        "**Questão 01**\n",
        "\n",
        "Você deve fazer um programa em Python que apresente a sequência conforme o exemplo abaixo (2 pontos):\n",
        "\n",
        "**Entrada**\n",
        "\n",
        ">Não há nenhuma entrada neste problema.\n",
        "\n",
        "\n",
        "**Saída**\n",
        "\n",
        ">Imprima a sequencia conforme exemplo abaixo\n",
        "\n",
        "> I=0  J=100<br/>\n",
        "I=7  J=90<br/>\n",
        "I=14  J=80<br/>\n",
        "...<br/>\n",
        "I=?  J=0\n",
        "\n",
        "\n",
        "\n"
      ]
    },
    {
      "cell_type": "code",
      "metadata": {
        "id": "GnnB9uSuh1OH",
        "colab_type": "code",
        "colab": {
          "base_uri": "https://localhost:8080/",
          "height": 182
        },
        "outputId": "09ab7882-a169-4013-aeb2-09c28ade3e07"
      },
      "source": [
        "# RESPOSTA QUESTÃO 01\n",
        "\n",
        "i = 0\n",
        "j = 90\n",
        "for i in range(0,80,7):\n",
        "  if i and j:\n",
        "    i += 7 \n",
        "    j -= 10\n",
        "    print('I =',i,' J=',j)"
      ],
      "execution_count": 47,
      "outputs": [
        {
          "output_type": "stream",
          "text": [
            "I = 14  J= 80\n",
            "I = 21  J= 70\n",
            "I = 28  J= 60\n",
            "I = 35  J= 50\n",
            "I = 42  J= 40\n",
            "I = 49  J= 30\n",
            "I = 56  J= 20\n",
            "I = 63  J= 10\n",
            "I = 70  J= 0\n"
          ],
          "name": "stdout"
        }
      ]
    },
    {
      "cell_type": "markdown",
      "metadata": {
        "id": "qdxZSXhOhtaw",
        "colab_type": "text"
      },
      "source": [
        "**Questão 02** \n",
        "\n",
        "Sistemas contábeis e de recursos humanos precisam conhecer bem a legislação tributária do país para calcular os impostos a serem recolhidos mensalmente sobre o salário dos funcionários. \n",
        "\n",
        "Trabalhadores também precisam entender quanto ganham e porque existem descontos em seus contra-cheques.\n",
        "\n",
        "Neste exercício, você vai ajudar empresas e trabalhadores a entender os descontos da previdência social (INSS).\n",
        "\n",
        "A tabela usada para calcular esses descontos é apresentada a seguir.\n",
        "\n"
      ]
    },
    {
      "cell_type": "markdown",
      "metadata": {
        "id": "lJQDXMKeyKAx",
        "colab_type": "text"
      },
      "source": [
        "| Salário de contribuição | Alíquota |\n",
        "|:-:|:-:|\n",
        "| Até 1.693,72 | 8% | \n",
        "| De 1.693,73 a 2.822,90 | 9% |\n",
        "| De 2.822,91 até 5.645,80 | 11% |"
      ]
    },
    {
      "cell_type": "markdown",
      "metadata": {
        "id": "NE9JQEHAyLEp",
        "colab_type": "text"
      },
      "source": [
        "Como você pode ver, o desconto sobre o salário depende da faixa salarial na qual um trabalhador se enquadre.\n",
        "\n",
        "Além disso, existe um teto na tabela que determina que pessoas que ganhem a partir de 5.645,81 devem contribuir com 621,04 (11% de 5.645,80).\n",
        "\n",
        "Escreva um código Python que receba um salário bruto (antes do desconto) e informe o valor da contribuição para o INSS e o salário líquido (após o desconto)."
      ]
    },
    {
      "cell_type": "markdown",
      "metadata": {
        "id": "_dwVBRiOyQFO",
        "colab_type": "text"
      },
      "source": [
        "|.| Entrada | Saída |\n",
        "|-|:-:|-|\n",
        "| *Exemplo 1* | 7456.57 | 621.04 6835.53 | \n",
        "| *Exemplo 2* | 2822.90 | 254.06 2568.84 |\n",
        "| *Exemplo 3* | 1693.73 | 152.44 1541.29 |"
      ]
    },
    {
      "cell_type": "code",
      "metadata": {
        "id": "uina6WBRduw5",
        "colab_type": "code",
        "colab": {}
      },
      "source": [
        "# RESPOSTA QUESTÃO 02\n",
        "print('Digite seu salario!')\n",
        "salario = float(input())\n",
        "\n",
        "if salario <= 1693.72:\n",
        "  aliquota = (salario * 0.08)\n",
        "  desconto = (salario - aliquota)\n",
        "\n",
        "elif salario >= 1693.73 and salario <= 2822.90:  \n",
        "    aliquota = (salario * 0.09)\n",
        "    desconto = (salario - aliquota)\n",
        "\n",
        "elif salario >= 2822.91 and salario <= 5645.80:\n",
        "    aliquota = (salario * 0.11)\n",
        "    desconto = (salario - aliquota)\n",
        "\n",
        "else:\n",
        "    salario > 5645.80\n",
        "    aliquota = 621.04\n",
        "    desconto = (salario - aliquota)\n",
        "    \n",
        "print(aliquota, desconto)"
      ],
      "execution_count": 0,
      "outputs": []
    },
    {
      "cell_type": "markdown",
      "metadata": {
        "id": "5u5I8RB3MNjK",
        "colab_type": "text"
      },
      "source": [
        "**Questão 03**\t\n",
        "\n",
        "Elabore um procedimento que receba três notas de um aluno e uma letra como parâmetros deste procedimento.\n",
        "\n",
        "Se a letra for ‘A’, a função deve calcular a média aritmética das notas do aluno; se a letra for ‘P’, deverá calcular a média ponderada, com pesos 5, 3 e 2. \n",
        "\n",
        "Retorne a média calculada para o programa principal \n",
        "\n",
        "\n",
        "|.| Entrada | Saída |\n",
        "|-|:-:|:-:|\n",
        "| *Exemplo 1* | A <br> 5<br> 6<br> 7<br> | 6 | \n",
        "| *Exemplo 2* | P <br> 5<br> 6<br> 7<br> | 5.7 | "
      ]
    },
    {
      "cell_type": "code",
      "metadata": {
        "id": "O0qKgQcsL-vE",
        "colab_type": "code",
        "colab": {}
      },
      "source": [
        "# RESPOSTA QUESTÃO 03\n",
        "\n",
        "def maritimetica(n1,n2,n3):\n",
        "  mediaa = (n1+n2+n3) / 3\n",
        "  return mediaa\n",
        "def mpoderada(n1,n2,n3):\n",
        "  mediap = ((n1*5)+(n2*3)+(n3*2)/10)\n",
        "  return mediap\n",
        "\n",
        "print('Digite A para media aritimetica ou P para media ponderada')\n",
        "res = input()\n",
        "\n",
        "n1 = float(input())\n",
        "n2 = float(input())\n",
        "n3 = float(input())\n",
        "\n",
        "if res == \"A\" or \"a\":\n",
        "  media = maritimetica(n1,n2,n3)\n",
        "\n",
        "elif res == \"P\" or \"p\":\n",
        "  media = mponderada(n1,n2,n3)\n",
        "  \n",
        "print(media)\n",
        "  \n"
      ],
      "execution_count": 0,
      "outputs": []
    },
    {
      "cell_type": "markdown",
      "metadata": {
        "id": "oajr8pYhLHo9",
        "colab_type": "text"
      },
      "source": [
        "**Questão 04**\n",
        "\n",
        "\n",
        "Leia 1 valor inteiro N (2 < N < 1000). A seguir, mostre a tabuada de N:      \n",
        "1 x N = N      \n",
        "2 x N = 2N      \n",
        "...       \n",
        "10 x N = 10N\n",
        "\n",
        "**Entrada**\n",
        "\n",
        "A entrada contém um valor inteiro N (2 < N < 1000).\n",
        "\n",
        "\n",
        "**Saída**\n",
        "\n",
        "Imprima a tabuada de N, conforme o exemplo fornecido.\n"
      ]
    },
    {
      "cell_type": "markdown",
      "metadata": {
        "id": "q3_zCOLsL_s0",
        "colab_type": "text"
      },
      "source": [
        "| Exemplo de Entrada | Exemplo de Saída |\n",
        "|:-:|:-|\n",
        "| 140   | 1 x 140 = 140<br> 2 x 140 = 280<br> 3 x 140 = 420<br> 4 x 140 = 560<br> 5 x 140 = 700<br> 6 x 140 = 840<br> 7 x 140 = 980<br> 8 x 140 = 1120<br> 9 x 140 = 1260<br> 10 x 140 = 1400\n"
      ]
    },
    {
      "cell_type": "code",
      "metadata": {
        "id": "fDZ-BSTLND-D",
        "colab_type": "code",
        "colab": {}
      },
      "source": [
        "# RESPOSTA QUESTÃO 04\n",
        "print('Ponha um numero para aparecer a tabuada')\n",
        "n = int(input())\n",
        "\n",
        "def multiplicação():\n",
        "  n1 = (1 * n)\n",
        "  print(\"1\",' x ',n,' =',n1)\n",
        "  \n",
        "  n2 = (n * 2)\n",
        "  print(\"2\",' x ',n,' =',n2)\n",
        "  \n",
        "  n3 = n * 3\n",
        "  print(\"3\",' x ',n,' =',n3)\n",
        "  \n",
        "  n4 = (n * 4)\n",
        "  print(\"4\",' x ',n,' =',n4)\n",
        "  \n",
        "  n5 = (n * 5)\n",
        "  print(\"5\",' x ',n,' =',n5)\n",
        "  \n",
        "  n6 = (n * 6)\n",
        "  print(\"6\",' x ',n,' =',n6)\n",
        "  \n",
        "  n7 = (n * 7)\n",
        "  print(\"7\",' x ',n,' =',n7)\n",
        "  \n",
        "  n8 = (n * 8)\n",
        "  print(\"8\",' x ',n,' =',n8)\n",
        "  \n",
        "  n9 = (n * 9)\n",
        "  print(\"9\",' x ',n,' =',n9)\n",
        "  \n",
        "  n10 = (n * 10)\n",
        "  print(\"10\",' x ',n,' =',n10)\n",
        "  \n",
        "  \n",
        "multiplicação()"
      ],
      "execution_count": 0,
      "outputs": []
    }
  ]
}